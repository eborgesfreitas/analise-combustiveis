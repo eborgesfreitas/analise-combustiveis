{
 "cells": [
  {
   "cell_type": "code",
   "execution_count": 15,
   "id": "ca3af082",
   "metadata": {},
   "outputs": [],
   "source": [
    "import pandas as pd\n",
    "import numpy as np\n",
    "import unicodedata\n",
    "import os\n",
    "\n",
    "df = pd.read_csv('../data/raw/2004-2021.tsv', sep='\\t')"
   ]
  },
  {
   "cell_type": "markdown",
   "id": "4d10c4b5",
   "metadata": {},
   "source": [
    "### Tratamento dos dados"
   ]
  },
  {
   "cell_type": "code",
   "execution_count": 16,
   "id": "3b782c4b",
   "metadata": {},
   "outputs": [
    {
     "name": "stdout",
     "output_type": "stream",
     "text": [
      "<class 'pandas.core.frame.DataFrame'>\n",
      "RangeIndex: 120823 entries, 0 to 120822\n",
      "Data columns (total 18 columns):\n",
      " #   Column                         Non-Null Count   Dtype  \n",
      "---  ------                         --------------   -----  \n",
      " 0   DATA INICIAL                   120823 non-null  object \n",
      " 1   DATA FINAL                     120823 non-null  object \n",
      " 2   REGIÃO                         120823 non-null  object \n",
      " 3   ESTADO                         120823 non-null  object \n",
      " 4   PRODUTO                        120823 non-null  object \n",
      " 5   NÚMERO DE POSTOS PESQUISADOS   120823 non-null  int64  \n",
      " 6   UNIDADE DE MEDIDA              120823 non-null  object \n",
      " 7   PREÇO MÉDIO REVENDA            120823 non-null  float64\n",
      " 8   DESVIO PADRÃO REVENDA          120823 non-null  float64\n",
      " 9   PREÇO MÍNIMO REVENDA           120823 non-null  float64\n",
      " 10  PREÇO MÁXIMO REVENDA           120823 non-null  float64\n",
      " 11  MARGEM MÉDIA REVENDA           120823 non-null  object \n",
      " 12  COEF DE VARIAÇÃO REVENDA       120823 non-null  float64\n",
      " 13  PREÇO MÉDIO DISTRIBUIÇÃO       120823 non-null  object \n",
      " 14  DESVIO PADRÃO DISTRIBUIÇÃO     120823 non-null  object \n",
      " 15  PREÇO MÍNIMO DISTRIBUIÇÃO      120823 non-null  object \n",
      " 16  PREÇO MÁXIMO DISTRIBUIÇÃO      120823 non-null  object \n",
      " 17  COEF DE VARIAÇÃO DISTRIBUIÇÃO  120823 non-null  object \n",
      "dtypes: float64(5), int64(1), object(12)\n",
      "memory usage: 16.6+ MB\n"
     ]
    },
    {
     "data": {
      "text/plain": [
       "\"Observações do .info()\\n    - colunas de Datas estão no formato 'str', mas deveriam estar no formato 'datetime'\\n    - as colunas abaixo estão no formato 'str', mas deveriam estar no formato 'float': \\n        11 MARGEM MÉDIA REVENDA\\n        13 PREÇO MÉDIO DISTRIBUIÇÃO       \\n        14 DESVIO PADRÃO DISTRIBUIÇÃO     \\n        15 PREÇO MÍNIMO DISTRIBUIÇÃO       \\n        16 PREÇO MÁXIMO DISTRIBUIÇÃO       \\n        17 COEF DE VARIAÇÃO DISTRIBUIÇÃO\\n\""
      ]
     },
     "execution_count": 16,
     "metadata": {},
     "output_type": "execute_result"
    }
   ],
   "source": [
    "df.head()\n",
    "df.info() \n",
    "\n",
    "'''Observações do .info()\n",
    "    - colunas de Datas estão no formato 'str', mas deveriam estar no formato 'datetime'\n",
    "    - as colunas abaixo estão no formato 'str', mas deveriam estar no formato 'float': \n",
    "        11 MARGEM MÉDIA REVENDA\n",
    "        13 PREÇO MÉDIO DISTRIBUIÇÃO       \n",
    "        14 DESVIO PADRÃO DISTRIBUIÇÃO     \n",
    "        15 PREÇO MÍNIMO DISTRIBUIÇÃO       \n",
    "        16 PREÇO MÁXIMO DISTRIBUIÇÃO       \n",
    "        17 COEF DE VARIAÇÃO DISTRIBUIÇÃO\n",
    "'''"
   ]
  },
  {
   "cell_type": "code",
   "execution_count": 17,
   "id": "fa15bea5",
   "metadata": {},
   "outputs": [],
   "source": [
    "# Convertendo colunas de datas\n",
    "df['DATA INICIAL'] = pd.to_datetime(df['DATA INICIAL'])\n",
    "df['DATA FINAL'] = pd.to_datetime(df['DATA FINAL'])\n",
    "\n",
    "# Convertendo colunas numéricas\n",
    "colunas_float = [\n",
    "    'MARGEM MÉDIA REVENDA',\n",
    "    'PREÇO MÉDIO DISTRIBUIÇÃO',\n",
    "    'DESVIO PADRÃO DISTRIBUIÇÃO',\n",
    "    'PREÇO MÍNIMO DISTRIBUIÇÃO',\n",
    "    'PREÇO MÁXIMO DISTRIBUIÇÃO',\n",
    "    'COEF DE VARIAÇÃO DISTRIBUIÇÃO'\n",
    "]\n",
    "\n",
    "for coluna in colunas_float:\n",
    "    df[coluna] = (\n",
    "        df[coluna]\n",
    "        .astype(str)           # garante que é string pra fazer replace\n",
    "        .str.replace(',', '.', regex=False) # troca vírgula por ponto\n",
    "        .replace('-', np.nan)  # trata o traço\n",
    "        .astype(float)         # converte pra float\n",
    "    )\n",
    "\n",
    "    # Substituir NaN ou -99999 pela mediana válida\n",
    "    mediana = df.loc[(df[coluna].notna()) & (df[coluna] != -99999), coluna].median()\n",
    "\n",
    "    df[coluna] = df[coluna].replace(-99999, np.nan)  # marca -99999 como NaN\n",
    "    df[coluna] = df[coluna].fillna(mediana)          # substitui NaN pela mediana"
   ]
  },
  {
   "cell_type": "code",
   "execution_count": 18,
   "id": "55c610e1",
   "metadata": {},
   "outputs": [
    {
     "data": {
      "text/plain": [
       "PRODUTO\n",
       "GASOLINA COMUM        23570\n",
       "GLP                   23561\n",
       "ETANOL HIDRATADO      23440\n",
       "ÓLEO DIESEL           21194\n",
       "GNV                   14469\n",
       "ÓLEO DIESEL S10        9113\n",
       "OLEO DIESEL S10        2376\n",
       "OLEO DIESEL            2351\n",
       "GASOLINA ADITIVADA      749\n",
       "Name: count, dtype: int64"
      ]
     },
     "execution_count": 18,
     "metadata": {},
     "output_type": "execute_result"
    }
   ],
   "source": [
    "df['PRODUTO'].value_counts()\n",
    "\n",
    "#OBS: Produtos com diferenciação devido a escrita"
   ]
  },
  {
   "cell_type": "code",
   "execution_count": 19,
   "id": "2e56393c",
   "metadata": {},
   "outputs": [
    {
     "name": "stdout",
     "output_type": "stream",
     "text": [
      "PRODUTO\n",
      "GASOLINA COMUM        23570\n",
      "GLP                   23561\n",
      "OLEO DIESEL           23545\n",
      "ETANOL HIDRATADO      23440\n",
      "GNV                   14469\n",
      "OLEO DIESEL S10       11489\n",
      "GASOLINA ADITIVADA      749\n",
      "Name: count, dtype: int64\n"
     ]
    }
   ],
   "source": [
    "# Função para remover acentos\n",
    "def remover_acentos(texto):\n",
    "    if isinstance(texto, str):\n",
    "        return unicodedata.normalize('NFKD', texto).encode('ASCII', 'ignore').decode('ASCII')\n",
    "    return texto\n",
    "\n",
    "# Aplicando na coluna 'PRODUTO'\n",
    "df['PRODUTO'] = df['PRODUTO'].apply(remover_acentos).str.upper().str.strip()\n",
    "\n",
    "# Conferir novamente os valores únicos\n",
    "print(df['PRODUTO'].value_counts())"
   ]
  },
  {
   "cell_type": "code",
   "execution_count": 20,
   "id": "adcf3c64",
   "metadata": {},
   "outputs": [],
   "source": [
    "# Crie a pasta se ela não existir\n",
    "os.makedirs('../data/processed', exist_ok=True)\n",
    "\n",
    "\n",
    "# Salvar em CSV\n",
    "df.to_csv('../data/processed/dados_tratados.csv', index=False)"
   ]
  }
 ],
 "metadata": {
  "kernelspec": {
   "display_name": ".venv",
   "language": "python",
   "name": "python3"
  },
  "language_info": {
   "codemirror_mode": {
    "name": "ipython",
    "version": 3
   },
   "file_extension": ".py",
   "mimetype": "text/x-python",
   "name": "python",
   "nbconvert_exporter": "python",
   "pygments_lexer": "ipython3",
   "version": "3.11.0"
  }
 },
 "nbformat": 4,
 "nbformat_minor": 5
}
